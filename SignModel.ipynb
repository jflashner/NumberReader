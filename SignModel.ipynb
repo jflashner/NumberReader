{
 "cells": [
  {
   "cell_type": "code",
   "execution_count": 1,
   "metadata": {},
   "outputs": [
    {
     "name": "stderr",
     "output_type": "stream",
     "text": [
      "C:\\Users\\Joshua\\Anaconda3\\envs\\SignModel\\lib\\site-packages\\h5py\\__init__.py:34: FutureWarning: Conversion of the second argument of issubdtype from `float` to `np.floating` is deprecated. In future, it will be treated as `np.float64 == np.dtype(float).type`.\n",
      "  from ._conv import register_converters as _register_converters\n",
      "Using TensorFlow backend.\n"
     ]
    }
   ],
   "source": [
    "#Imports\n",
    "import pandas as pd\n",
    "import numpy as np\n",
    "import h5py\n",
    "import matplotlib.pyplot as plt\n",
    "%matplotlib inline\n",
    "\n",
    "import tensorflow as tf\n",
    "import keras\n",
    "from keras import layers\n",
    "from keras.layers import Input, Dense, Activation, ZeroPadding2D, BatchNormalization, Flatten, Conv2D\n",
    "from keras.layers import AveragePooling2D, MaxPooling2D, Dropout, GlobalMaxPooling2D, GlobalAveragePooling2D\n",
    "from keras.models import Model\n",
    "from keras.preprocessing import image\n",
    "from keras.utils import layer_utils\n",
    "from keras.utils import np_utils\n",
    "from keras.utils.data_utils import get_file\n",
    "from keras.applications.imagenet_utils import preprocess_input\n",
    "from keras import optimizers\n"
   ]
  },
  {
   "cell_type": "code",
   "execution_count": 2,
   "metadata": {},
   "outputs": [
    {
     "name": "stderr",
     "output_type": "stream",
     "text": [
      "C:\\Users\\Joshua\\Anaconda3\\envs\\SignModel\\lib\\site-packages\\ipykernel_launcher.py:2: DeprecationWarning: \n",
      ".ix is deprecated. Please use\n",
      ".loc for label based indexing or\n",
      ".iloc for positional indexing\n",
      "\n",
      "See the documentation here:\n",
      "http://pandas.pydata.org/pandas-docs/stable/indexing.html#ix-indexer-is-deprecated\n",
      "  \n"
     ]
    }
   ],
   "source": [
    "train = pd.read_csv('../SignData/train.csv')\n",
    "labels = train.ix[:,0].values.astype('int32')\n",
    "X_train = train.ix[:,1:].values.astype('float32')\n",
    "X_train = X_train.reshape((X_train.shape[0],28,28))\n",
    "X_test = (pd.read_csv('../SignData/test.csv').values).astype('float32')\n",
    "\n",
    "y_train = np_utils.to_categorical(labels)"
   ]
  },
  {
   "cell_type": "code",
   "execution_count": 3,
   "metadata": {},
   "outputs": [
    {
     "data": {
      "image/png": "[encoded data removed]",
      "text/plain": [
       "<matplotlib.figure.Figure at 0x27b8015a0f0>"
      ]
     },
     "metadata": {},
     "output_type": "display_data"
    }
   ],
   "source": [
    "im1 = 120\n",
    "im2 = 130\n",
    "for i in range(im1, im2):\n",
    "    plt.subplot(3,im2-im1,1+(i-im1))\n",
    "    plt.imshow(X_train[i], cmap=plt.get_cmap('gray'))\n",
    "    plt.title(np.where(y_train[i] == 1)[0][0])"
   ]
  },
  {
   "cell_type": "code",
   "execution_count": 4,
   "metadata": {
    "collapsed": true
   },
   "outputs": [],
   "source": [
    "X_train = X_train.reshape(X_train.shape[0], 28, 28,1)\n",
    "X_test = X_test.reshape(X_test.shape[0], 28, 28,1)\n",
    "X_test1 = X_test\n",
    "scale = np.max(X_train)\n",
    "X_train /= scale\n",
    "X_test /= scale\n",
    "\n",
    "mean = np.std(X_train)\n",
    "X_train -= mean\n",
    "X_test -= mean\n",
    "\n",
    "input_dim = X_train.shape[1]\n",
    "nb_classes = y_train.shape[1]\n",
    "\n"
   ]
  },
  {
   "cell_type": "code",
   "execution_count": 5,
   "metadata": {
    "collapsed": true
   },
   "outputs": [],
   "source": [
    "def SignsModel(input_shape):\n",
    "    \n",
    "    X_input = Input(input_shape)\n",
    "    print(X_input)\n",
    "    X = (X_input)\n",
    "    X = Conv2D(32, (5,5), strides = (1,1), name='conv0')(X)\n",
    "    X = BatchNormalization(axis = 3, name = 'bn0')(X)\n",
    "    X = Activation('relu')(X)\n",
    "    \n",
    "    X = Conv2D(32, (3, 3), strides = (1, 1), name = 'conv2')(X)\n",
    "    X = BatchNormalization(axis = 3, name = 'bn2')(X)\n",
    "    X = Activation('relu')(X)\n",
    "    \n",
    "    X = Dropout(0.2)(X)\n",
    "    \n",
    "    X = MaxPooling2D((2, 2), name='max_pool')(X)\n",
    "    \n",
    "    X = Conv2D(64, (3, 3), strides = (1, 1), name = 'conv3')(X)\n",
    "    X = BatchNormalization(axis = 3, name = 'bn3')(X)\n",
    "    X = Activation('relu')(X)\n",
    "    \n",
    "    X = Conv2D(64, (3, 3), strides = (1, 1), name = 'conv4')(X)\n",
    "    X = BatchNormalization(axis = 3, name = 'bn4')(X)\n",
    "    X = Activation('relu')(X)\n",
    "    \n",
    "    X = Dropout(0.2)(X)\n",
    "    \n",
    "    X = MaxPooling2D((2, 2), name='max_pool2')(X)\n",
    "    \n",
    "    print(X.get_shape())\n",
    "    X = Flatten()(X)\n",
    "    X = Dense(1024, activation='relu', name='fc')(X)\n",
    "    X = Dense(512, activation='relu', name='fc2')(X)\n",
    "    X = Dense(256, activation='relu', name='fc3')(X)\n",
    "    X = Dense(10, activation='softmax', name='fc4')(X)\n",
    "    \n",
    "    model = Model(inputs = X_input, outputs = X, name='SignModel')\n",
    "    \n",
    "    return model"
   ]
  },
  {
   "cell_type": "code",
   "execution_count": 6,
   "metadata": {},
   "outputs": [
    {
     "name": "stdout",
     "output_type": "stream",
     "text": [
      "Tensor(\"input_1:0\", shape=(?, 28, 28, 1), dtype=float32)\n",
      "(?, 3, 3, 64)\n"
     ]
    }
   ],
   "source": [
    "signsModel = SignsModel((28,28,1))"
   ]
  },
  {
   "cell_type": "code",
   "execution_count": 7,
   "metadata": {
    "collapsed": true
   },
   "outputs": [],
   "source": [
    "sgd = optimizers.SGD(lr = 0.01, decay = 1e-6, momentum = 0.9, nesterov = True)\n",
    "signsModel.compile(optimizer=sgd, loss='categorical_crossentropy', metrics=['accuracy'])"
   ]
  },
  {
   "cell_type": "code",
   "execution_count": 8,
   "metadata": {},
   "outputs": [
    {
     "name": "stdout",
     "output_type": "stream",
     "text": [
      "WARNING:tensorflow:Variable *= will be deprecated. Use variable.assign_mul if you want assignment to the variable value or 'x = x * y' if you want a new python Tensor object.\n",
      "Epoch 1/150\n",
      "42000/42000 [==============================] - 20s 466us/step - loss: 0.1253 - acc: 0.9627\n",
      "Epoch 2/150\n",
      "42000/42000 [==============================] - 18s 420us/step - loss: 0.0516 - acc: 0.9855\n",
      "Epoch 3/150\n",
      "42000/42000 [==============================] - 18s 426us/step - loss: 0.0344 - acc: 0.9900\n",
      "Epoch 4/150\n",
      "42000/42000 [==============================] - 18s 417us/step - loss: 0.0299 - acc: 0.9909\n",
      "Epoch 5/150\n",
      "42000/42000 [==============================] - 18s 417us/step - loss: 0.0234 - acc: 0.9923\n",
      "Epoch 6/150\n",
      "42000/42000 [==============================] - 17s 416us/step - loss: 0.0192 - acc: 0.9939\n",
      "Epoch 7/150\n",
      "42000/42000 [==============================] - 18s 418us/step - loss: 0.0167 - acc: 0.9948\n",
      "Epoch 8/150\n",
      "42000/42000 [==============================] - 17s 417us/step - loss: 0.0152 - acc: 0.9953\n",
      "Epoch 9/150\n",
      "42000/42000 [==============================] - 17s 415us/step - loss: 0.0114 - acc: 0.9967\n",
      "Epoch 10/150\n",
      "42000/42000 [==============================] - 18s 421us/step - loss: 0.0116 - acc: 0.9960\n",
      "Epoch 11/150\n",
      "42000/42000 [==============================] - 17s 414us/step - loss: 0.0108 - acc: 0.9967\n",
      "Epoch 12/150\n",
      "42000/42000 [==============================] - 17s 411us/step - loss: 0.0103 - acc: 0.9966\n",
      "Epoch 13/150\n",
      "42000/42000 [==============================] - 17s 411us/step - loss: 0.0083 - acc: 0.9973\n",
      "Epoch 14/150\n",
      "42000/42000 [==============================] - 17s 411us/step - loss: 0.0079 - acc: 0.9971\n",
      "Epoch 15/150\n",
      "42000/42000 [==============================] - 17s 404us/step - loss: 0.0062 - acc: 0.9981\n",
      "Epoch 16/150\n",
      "42000/42000 [==============================] - 17s 404us/step - loss: 0.0064 - acc: 0.9980\n",
      "Epoch 17/150\n",
      "42000/42000 [==============================] - 17s 405us/step - loss: 0.0062 - acc: 0.9981\n",
      "Epoch 18/150\n",
      "42000/42000 [==============================] - 17s 405us/step - loss: 0.0043 - acc: 0.9987\n",
      "Epoch 19/150\n",
      "42000/42000 [==============================] - 17s 405us/step - loss: 0.0033 - acc: 0.9989\n",
      "Epoch 20/150\n",
      "42000/42000 [==============================] - 17s 412us/step - loss: 0.0057 - acc: 0.9983\n",
      "Epoch 21/150\n",
      "42000/42000 [==============================] - 17s 416us/step - loss: 0.0067 - acc: 0.9975\n",
      "Epoch 22/150\n",
      "42000/42000 [==============================] - 17s 411us/step - loss: 0.0044 - acc: 0.9986\n",
      "Epoch 23/150\n",
      "42000/42000 [==============================] - 17s 412us/step - loss: 0.0042 - acc: 0.9986\n",
      "Epoch 24/150\n",
      "42000/42000 [==============================] - 17s 410us/step - loss: 0.0035 - acc: 0.9989\n",
      "Epoch 25/150\n",
      "42000/42000 [==============================] - 17s 411us/step - loss: 0.0030 - acc: 0.9991\n",
      "Epoch 26/150\n",
      "42000/42000 [==============================] - 17s 411us/step - loss: 0.0045 - acc: 0.9985\n",
      "Epoch 27/150\n",
      "42000/42000 [==============================] - 17s 410us/step - loss: 0.0025 - acc: 0.9991\n",
      "Epoch 28/150\n",
      "42000/42000 [==============================] - 17s 407us/step - loss: 0.0026 - acc: 0.9991\n",
      "Epoch 29/150\n",
      "42000/42000 [==============================] - 17s 405us/step - loss: 0.0036 - acc: 0.9990\n",
      "Epoch 30/150\n",
      "42000/42000 [==============================] - 17s 404us/step - loss: 0.0045 - acc: 0.9985\n",
      "Epoch 31/150\n",
      "42000/42000 [==============================] - 17s 404us/step - loss: 0.0026 - acc: 0.9991\n",
      "Epoch 32/150\n",
      "42000/42000 [==============================] - 17s 401us/step - loss: 0.0026 - acc: 0.9991\n",
      "Epoch 33/150\n",
      "42000/42000 [==============================] - 17s 402us/step - loss: 0.0028 - acc: 0.9993\n",
      "Epoch 34/150\n",
      "42000/42000 [==============================] - 17s 397us/step - loss: 0.0027 - acc: 0.9991\n",
      "Epoch 35/150\n",
      "42000/42000 [==============================] - 17s 397us/step - loss: 0.0021 - acc: 0.9992\n",
      "Epoch 36/150\n",
      "42000/42000 [==============================] - 17s 401us/step - loss: 0.0021 - acc: 0.9994\n",
      "Epoch 37/150\n",
      "42000/42000 [==============================] - 17s 398us/step - loss: 0.0029 - acc: 0.9991\n",
      "Epoch 38/150\n",
      "42000/42000 [==============================] - 17s 402us/step - loss: 0.0020 - acc: 0.9993\n",
      "Epoch 39/150\n",
      "42000/42000 [==============================] - 17s 402us/step - loss: 0.0022 - acc: 0.9994\n",
      "Epoch 40/150\n",
      "42000/42000 [==============================] - 17s 401us/step - loss: 0.0013 - acc: 0.9995\n",
      "Epoch 41/150\n",
      "42000/42000 [==============================] - 17s 402us/step - loss: 0.0015 - acc: 0.9996\n",
      "Epoch 42/150\n",
      "42000/42000 [==============================] - 17s 402us/step - loss: 0.0035 - acc: 0.9991\n",
      "Epoch 43/150\n",
      "42000/42000 [==============================] - 18s 424us/step - loss: 0.0011 - acc: 0.9996\n",
      "Epoch 44/150\n",
      "42000/42000 [==============================] - 17s 416us/step - loss: 0.0016 - acc: 0.9995\n",
      "Epoch 45/150\n",
      "42000/42000 [==============================] - 18s 417us/step - loss: 8.9217e-04 - acc: 0.9998\n",
      "Epoch 46/150\n",
      "42000/42000 [==============================] - 17s 410us/step - loss: 2.6423e-04 - acc: 1.0000\n",
      "Epoch 47/150\n",
      "42000/42000 [==============================] - 18s 424us/step - loss: 3.8971e-04 - acc: 0.9999\n",
      "Epoch 48/150\n",
      "42000/42000 [==============================] - 17s 415us/step - loss: 0.0012 - acc: 0.9997\n",
      "Epoch 49/150\n",
      "42000/42000 [==============================] - 18s 427us/step - loss: 5.6344e-04 - acc: 0.9999\n",
      "Epoch 50/150\n",
      "42000/42000 [==============================] - 18s 424us/step - loss: 5.2199e-04 - acc: 0.9999\n",
      "Epoch 51/150\n",
      "42000/42000 [==============================] - 17s 415us/step - loss: 0.0012 - acc: 0.9996\n",
      "Epoch 52/150\n",
      "42000/42000 [==============================] - 17s 413us/step - loss: 0.0016 - acc: 0.9996\n",
      "Epoch 53/150\n",
      "42000/42000 [==============================] - 17s 407us/step - loss: 6.0761e-04 - acc: 0.9997\n",
      "Epoch 54/150\n",
      "42000/42000 [==============================] - 17s 399us/step - loss: 8.1754e-04 - acc: 0.9997\n",
      "Epoch 55/150\n",
      "42000/42000 [==============================] - 18s 429us/step - loss: 0.0014 - acc: 0.9996\n",
      "Epoch 56/150\n",
      "42000/42000 [==============================] - 17s 413us/step - loss: 2.2831e-04 - acc: 1.0000\n",
      "Epoch 57/150\n",
      "42000/42000 [==============================] - 17s 412us/step - loss: 2.8570e-04 - acc: 0.9999\n",
      "Epoch 58/150\n",
      "42000/42000 [==============================] - 17s 409us/step - loss: 8.4476e-04 - acc: 0.9998\n",
      "Epoch 59/150\n",
      "42000/42000 [==============================] - 17s 405us/step - loss: 8.9307e-04 - acc: 0.9998\n",
      "Epoch 60/150\n",
      "42000/42000 [==============================] - 17s 400us/step - loss: 1.8927e-04 - acc: 1.0000\n",
      "Epoch 61/150\n",
      "42000/42000 [==============================] - 17s 415us/step - loss: 8.3112e-04 - acc: 0.9997\n",
      "Epoch 62/150\n",
      "42000/42000 [==============================] - 17s 415us/step - loss: 6.7005e-04 - acc: 0.9998\n",
      "Epoch 63/150\n",
      "42000/42000 [==============================] - 17s 416us/step - loss: 4.9354e-04 - acc: 0.9998\n",
      "Epoch 64/150\n",
      "42000/42000 [==============================] - 18s 419us/step - loss: 4.4690e-04 - acc: 0.9999\n",
      "Epoch 65/150\n",
      "42000/42000 [==============================] - 18s 423us/step - loss: 3.1010e-04 - acc: 1.0000\n",
      "Epoch 66/150\n",
      "42000/42000 [==============================] - 18s 420us/step - loss: 4.7219e-04 - acc: 1.0000\n",
      "Epoch 67/150\n",
      "42000/42000 [==============================] - 18s 417us/step - loss: 1.8981e-04 - acc: 1.0000\n",
      "Epoch 68/150\n",
      "42000/42000 [==============================] - 18s 422us/step - loss: 5.2282e-04 - acc: 0.9999\n",
      "Epoch 69/150\n",
      "42000/42000 [==============================] - 17s 414us/step - loss: 1.6742e-04 - acc: 1.0000\n",
      "Epoch 70/150\n",
      "42000/42000 [==============================] - 17s 412us/step - loss: 1.4482e-04 - acc: 1.0000\n",
      "Epoch 71/150\n",
      "42000/42000 [==============================] - 17s 409us/step - loss: 0.0013 - acc: 0.9997\n",
      "Epoch 72/150\n",
      "42000/42000 [==============================] - 17s 415us/step - loss: 9.8260e-04 - acc: 0.9996\n",
      "Epoch 73/150\n",
      "42000/42000 [==============================] - 17s 416us/step - loss: 5.7729e-04 - acc: 0.9997\n",
      "Epoch 74/150\n",
      "42000/42000 [==============================] - 18s 420us/step - loss: 0.0014 - acc: 0.9996\n",
      "Epoch 75/150\n",
      "42000/42000 [==============================] - 18s 425us/step - loss: 0.0014 - acc: 0.9995\n",
      "Epoch 76/150\n",
      "42000/42000 [==============================] - 18s 429us/step - loss: 3.8784e-04 - acc: 0.9999\n",
      "Epoch 77/150\n"
     ]
    },
    {
     "name": "stdout",
     "output_type": "stream",
     "text": [
      "42000/42000 [==============================] - 18s 420us/step - loss: 8.3954e-04 - acc: 0.9998\n",
      "Epoch 78/150\n",
      "42000/42000 [==============================] - 18s 420us/step - loss: 1.8529e-04 - acc: 1.0000\n",
      "Epoch 79/150\n",
      "42000/42000 [==============================] - 17s 415us/step - loss: 3.4330e-04 - acc: 0.9999\n",
      "Epoch 80/150\n",
      "42000/42000 [==============================] - 18s 421us/step - loss: 3.5682e-04 - acc: 1.0000\n",
      "Epoch 81/150\n",
      "42000/42000 [==============================] - 18s 417us/step - loss: 3.4885e-04 - acc: 0.9999\n",
      "Epoch 82/150\n",
      "42000/42000 [==============================] - 18s 424us/step - loss: 1.6917e-04 - acc: 1.0000\n",
      "Epoch 83/150\n",
      "42000/42000 [==============================] - 18s 419us/step - loss: 1.5045e-04 - acc: 1.0000\n",
      "Epoch 84/150\n",
      "42000/42000 [==============================] - 18s 417us/step - loss: 7.9459e-05 - acc: 1.0000\n",
      "Epoch 85/150\n",
      "42000/42000 [==============================] - 17s 415us/step - loss: 5.2571e-05 - acc: 1.0000\n",
      "Epoch 86/150\n",
      "42000/42000 [==============================] - 18s 421us/step - loss: 7.8144e-04 - acc: 0.9998\n",
      "Epoch 87/150\n",
      "42000/42000 [==============================] - 18s 420us/step - loss: 1.4949e-04 - acc: 1.0000\n",
      "Epoch 88/150\n",
      "42000/42000 [==============================] - 17s 414us/step - loss: 5.5384e-05 - acc: 1.0000\n",
      "Epoch 89/150\n",
      "42000/42000 [==============================] - 17s 414us/step - loss: 1.5977e-04 - acc: 1.0000\n",
      "Epoch 90/150\n",
      "42000/42000 [==============================] - 17s 417us/step - loss: 4.7325e-05 - acc: 1.0000\n",
      "Epoch 91/150\n",
      "42000/42000 [==============================] - 17s 416us/step - loss: 3.0667e-04 - acc: 1.0000\n",
      "Epoch 92/150\n",
      "42000/42000 [==============================] - 18s 419us/step - loss: 7.2425e-04 - acc: 0.9998\n",
      "Epoch 93/150\n",
      "42000/42000 [==============================] - 18s 419us/step - loss: 1.0768e-04 - acc: 1.0000\n",
      "Epoch 94/150\n",
      "42000/42000 [==============================] - 18s 419us/step - loss: 3.7364e-05 - acc: 1.0000\n",
      "Epoch 95/150\n",
      "42000/42000 [==============================] - 17s 414us/step - loss: 3.5875e-05 - acc: 1.0000\n",
      "Epoch 96/150\n",
      "42000/42000 [==============================] - 17s 413us/step - loss: 2.0489e-04 - acc: 0.9999\n",
      "Epoch 97/150\n",
      "42000/42000 [==============================] - 18s 418us/step - loss: 8.1289e-04 - acc: 0.9999\n",
      "Epoch 98/150\n",
      "42000/42000 [==============================] - 18s 418us/step - loss: 2.1388e-04 - acc: 0.9999\n",
      "Epoch 99/150\n",
      "42000/42000 [==============================] - 17s 416us/step - loss: 0.0016 - acc: 0.9997\n",
      "Epoch 100/150\n",
      "42000/42000 [==============================] - 17s 412us/step - loss: 0.0013 - acc: 0.9995\n",
      "Epoch 101/150\n",
      "42000/42000 [==============================] - 17s 417us/step - loss: 5.5906e-04 - acc: 0.9998\n",
      "Epoch 102/150\n",
      "42000/42000 [==============================] - 17s 414us/step - loss: 4.5311e-04 - acc: 0.9998\n",
      "Epoch 103/150\n",
      "42000/42000 [==============================] - 17s 415us/step - loss: 4.3743e-04 - acc: 0.9999\n",
      "Epoch 104/150\n",
      "42000/42000 [==============================] - 17s 416us/step - loss: 5.0951e-04 - acc: 0.9999\n",
      "Epoch 105/150\n",
      "42000/42000 [==============================] - 17s 412us/step - loss: 7.0557e-05 - acc: 1.0000\n",
      "Epoch 106/150\n",
      "42000/42000 [==============================] - 17s 416us/step - loss: 5.4548e-04 - acc: 0.9998\n",
      "Epoch 107/150\n",
      "42000/42000 [==============================] - 17s 413us/step - loss: 0.0011 - acc: 0.9996\n",
      "Epoch 108/150\n",
      "42000/42000 [==============================] - 17s 414us/step - loss: 6.1139e-04 - acc: 0.9998\n",
      "Epoch 109/150\n",
      "42000/42000 [==============================] - ETA: 0s - loss: 3.6872e-04 - acc: 0.999 - 17s 414us/step - loss: 3.6789e-04 - acc: 0.9998\n",
      "Epoch 110/150\n",
      "42000/42000 [==============================] - 17s 417us/step - loss: 1.8637e-04 - acc: 1.0000\n",
      "Epoch 111/150\n",
      "42000/42000 [==============================] - 17s 410us/step - loss: 5.4110e-04 - acc: 0.9999\n",
      "Epoch 112/150\n",
      "42000/42000 [==============================] - 17s 414us/step - loss: 6.8010e-05 - acc: 1.0000\n",
      "Epoch 113/150\n",
      "42000/42000 [==============================] - 18s 421us/step - loss: 4.7753e-05 - acc: 1.0000\n",
      "Epoch 114/150\n",
      "42000/42000 [==============================] - 18s 424us/step - loss: 2.5357e-05 - acc: 1.0000\n",
      "Epoch 115/150\n",
      "42000/42000 [==============================] - 18s 430us/step - loss: 6.5149e-05 - acc: 1.0000\n",
      "Epoch 116/150\n",
      "42000/42000 [==============================] - 18s 419us/step - loss: 2.2054e-05 - acc: 1.0000\n",
      "Epoch 117/150\n",
      "42000/42000 [==============================] - 18s 418us/step - loss: 1.9640e-05 - acc: 1.0000\n",
      "Epoch 118/150\n",
      "42000/42000 [==============================] - 18s 420us/step - loss: 1.7900e-05 - acc: 1.0000\n",
      "Epoch 119/150\n",
      "42000/42000 [==============================] - 18s 422us/step - loss: 3.0843e-05 - acc: 1.0000\n",
      "Epoch 120/150\n",
      "42000/42000 [==============================] - 18s 418us/step - loss: 2.8055e-04 - acc: 0.9999\n",
      "Epoch 121/150\n",
      "42000/42000 [==============================] - 18s 418us/step - loss: 6.1387e-05 - acc: 1.0000\n",
      "Epoch 122/150\n",
      "42000/42000 [==============================] - 18s 417us/step - loss: 1.4667e-05 - acc: 1.0000\n",
      "Epoch 123/150\n",
      "42000/42000 [==============================] - 17s 416us/step - loss: 3.6372e-05 - acc: 1.0000\n",
      "Epoch 124/150\n",
      "42000/42000 [==============================] - 18s 417us/step - loss: 1.9532e-05 - acc: 1.0000\n",
      "Epoch 125/150\n",
      "42000/42000 [==============================] - 17s 415us/step - loss: 1.4313e-05 - acc: 1.0000\n",
      "Epoch 126/150\n",
      "42000/42000 [==============================] - 18s 419us/step - loss: 2.3785e-05 - acc: 1.0000\n",
      "Epoch 127/150\n",
      "42000/42000 [==============================] - 18s 420us/step - loss: 1.4652e-05 - acc: 1.0000\n",
      "Epoch 128/150\n",
      "42000/42000 [==============================] - 18s 421us/step - loss: 3.1341e-05 - acc: 1.0000\n",
      "Epoch 129/150\n",
      "42000/42000 [==============================] - 18s 428us/step - loss: 0.0012 - acc: 0.9995\n",
      "Epoch 130/150\n",
      "42000/42000 [==============================] - 18s 431us/step - loss: 8.4570e-04 - acc: 0.9998\n",
      "Epoch 131/150\n",
      "42000/42000 [==============================] - 18s 423us/step - loss: 6.1409e-04 - acc: 0.9998\n",
      "Epoch 132/150\n",
      "42000/42000 [==============================] - 18s 420us/step - loss: 9.2187e-05 - acc: 1.0000\n",
      "Epoch 133/150\n",
      "42000/42000 [==============================] - 18s 421us/step - loss: 3.1253e-05 - acc: 1.0000\n",
      "Epoch 134/150\n",
      "42000/42000 [==============================] - 18s 420us/step - loss: 3.8099e-05 - acc: 1.0000\n",
      "Epoch 135/150\n",
      "42000/42000 [==============================] - 18s 420us/step - loss: 3.3908e-05 - acc: 1.0000\n",
      "Epoch 136/150\n",
      "42000/42000 [==============================] - 18s 420us/step - loss: 2.0262e-04 - acc: 0.9999\n",
      "Epoch 137/150\n",
      "42000/42000 [==============================] - 18s 431us/step - loss: 3.4868e-05 - acc: 1.0000\n",
      "Epoch 138/150\n",
      "42000/42000 [==============================] - 18s 427us/step - loss: 3.1744e-05 - acc: 1.0000\n",
      "Epoch 139/150\n",
      "42000/42000 [==============================] - 18s 424us/step - loss: 1.3553e-05 - acc: 1.0000\n",
      "Epoch 140/150\n",
      "42000/42000 [==============================] - 19s 444us/step - loss: 4.6942e-05 - acc: 1.0000\n",
      "Epoch 141/150\n",
      "42000/42000 [==============================] - 19s 446us/step - loss: 3.3252e-05 - acc: 1.0000\n",
      "Epoch 142/150\n",
      "42000/42000 [==============================] - 19s 443us/step - loss: 1.6452e-05 - acc: 1.0000\n",
      "Epoch 143/150\n",
      "42000/42000 [==============================] - 19s 444us/step - loss: 1.1573e-05 - acc: 1.0000\n",
      "Epoch 144/150\n",
      "42000/42000 [==============================] - 19s 446us/step - loss: 2.3689e-05 - acc: 1.0000\n",
      "Epoch 145/150\n",
      "42000/42000 [==============================] - 19s 445us/step - loss: 6.1766e-05 - acc: 1.0000\n",
      "Epoch 146/150\n",
      "42000/42000 [==============================] - 19s 445us/step - loss: 2.3762e-05 - acc: 1.0000\n",
      "Epoch 147/150\n",
      "42000/42000 [==============================] - 19s 456us/step - loss: 1.2933e-05 - acc: 1.0000\n",
      "Epoch 148/150\n",
      "42000/42000 [==============================] - 19s 442us/step - loss: 8.7864e-06 - acc: 1.0000\n",
      "Epoch 149/150\n",
      "42000/42000 [==============================] - 19s 441us/step - loss: 9.6505e-06 - acc: 1.0000\n",
      "Epoch 150/150\n",
      "42000/42000 [==============================] - 19s 441us/step - loss: 1.6638e-05 - acc: 1.0000\n"
     ]
    },
    {
     "data": {
      "text/plain": [
       "<keras.callbacks.History at 0x27b80511710>"
      ]
     },
     "execution_count": 8,
     "metadata": {},
     "output_type": "execute_result"
    }
   ],
   "source": [
    "signsModel.fit(x=X_train, y=y_train, epochs=150,batch_size=16)"
   ]
  },
  {
   "cell_type": "code",
   "execution_count": 9,
   "metadata": {},
   "outputs": [
    {
     "name": "stdout",
     "output_type": "stream",
     "text": [
      "Generating test predictions...\n",
      "(28000, 28, 28, 1)\n",
      "[2 0 9 ... 3 9 2]\n"
     ]
    },
    {
     "ename": "PermissionError",
     "evalue": "[Errno 13] Permission denied: 'keras-mlp.csv'",
     "output_type": "error",
     "traceback": [
      "\u001b[1;31m---------------------------------------------------------------------------\u001b[0m",
      "\u001b[1;31mPermissionError\u001b[0m                           Traceback (most recent call last)",
      "\u001b[1;32m<ipython-input-9-5386defb3fca>\u001b[0m in \u001b[0;36m<module>\u001b[1;34m()\u001b[0m\n\u001b[0;32m      6\u001b[0m     \u001b[0mpd\u001b[0m\u001b[1;33m.\u001b[0m\u001b[0mDataFrame\u001b[0m\u001b[1;33m(\u001b[0m\u001b[1;33m{\u001b[0m\u001b[1;34m\"ImageId\"\u001b[0m\u001b[1;33m:\u001b[0m \u001b[0mlist\u001b[0m\u001b[1;33m(\u001b[0m\u001b[0mrange\u001b[0m\u001b[1;33m(\u001b[0m\u001b[1;36m1\u001b[0m\u001b[1;33m,\u001b[0m\u001b[0mlen\u001b[0m\u001b[1;33m(\u001b[0m\u001b[0mpreds\u001b[0m\u001b[1;33m)\u001b[0m\u001b[1;33m+\u001b[0m\u001b[1;36m1\u001b[0m\u001b[1;33m)\u001b[0m\u001b[1;33m)\u001b[0m\u001b[1;33m,\u001b[0m \u001b[1;34m\"Label\"\u001b[0m\u001b[1;33m:\u001b[0m \u001b[0mpreds\u001b[0m\u001b[1;33m}\u001b[0m\u001b[1;33m)\u001b[0m\u001b[1;33m.\u001b[0m\u001b[0mto_csv\u001b[0m\u001b[1;33m(\u001b[0m\u001b[0mfname\u001b[0m\u001b[1;33m,\u001b[0m \u001b[0mindex\u001b[0m\u001b[1;33m=\u001b[0m\u001b[1;32mFalse\u001b[0m\u001b[1;33m,\u001b[0m \u001b[0mheader\u001b[0m\u001b[1;33m=\u001b[0m\u001b[1;32mTrue\u001b[0m\u001b[1;33m)\u001b[0m\u001b[1;33m\u001b[0m\u001b[0m\n\u001b[0;32m      7\u001b[0m \u001b[1;33m\u001b[0m\u001b[0m\n\u001b[1;32m----> 8\u001b[1;33m \u001b[0mwrite_preds\u001b[0m\u001b[1;33m(\u001b[0m\u001b[0mpreds\u001b[0m\u001b[1;33m,\u001b[0m \u001b[1;34m\"keras-mlp.csv\"\u001b[0m\u001b[1;33m)\u001b[0m\u001b[1;33m\u001b[0m\u001b[0m\n\u001b[0m",
      "\u001b[1;32m<ipython-input-9-5386defb3fca>\u001b[0m in \u001b[0;36mwrite_preds\u001b[1;34m(preds, fname)\u001b[0m\n\u001b[0;32m      4\u001b[0m \u001b[0mprint\u001b[0m\u001b[1;33m(\u001b[0m\u001b[0mpreds\u001b[0m\u001b[1;33m)\u001b[0m\u001b[1;33m\u001b[0m\u001b[0m\n\u001b[0;32m      5\u001b[0m \u001b[1;32mdef\u001b[0m \u001b[0mwrite_preds\u001b[0m\u001b[1;33m(\u001b[0m\u001b[0mpreds\u001b[0m\u001b[1;33m,\u001b[0m \u001b[0mfname\u001b[0m\u001b[1;33m)\u001b[0m\u001b[1;33m:\u001b[0m\u001b[1;33m\u001b[0m\u001b[0m\n\u001b[1;32m----> 6\u001b[1;33m     \u001b[0mpd\u001b[0m\u001b[1;33m.\u001b[0m\u001b[0mDataFrame\u001b[0m\u001b[1;33m(\u001b[0m\u001b[1;33m{\u001b[0m\u001b[1;34m\"ImageId\"\u001b[0m\u001b[1;33m:\u001b[0m \u001b[0mlist\u001b[0m\u001b[1;33m(\u001b[0m\u001b[0mrange\u001b[0m\u001b[1;33m(\u001b[0m\u001b[1;36m1\u001b[0m\u001b[1;33m,\u001b[0m\u001b[0mlen\u001b[0m\u001b[1;33m(\u001b[0m\u001b[0mpreds\u001b[0m\u001b[1;33m)\u001b[0m\u001b[1;33m+\u001b[0m\u001b[1;36m1\u001b[0m\u001b[1;33m)\u001b[0m\u001b[1;33m)\u001b[0m\u001b[1;33m,\u001b[0m \u001b[1;34m\"Label\"\u001b[0m\u001b[1;33m:\u001b[0m \u001b[0mpreds\u001b[0m\u001b[1;33m}\u001b[0m\u001b[1;33m)\u001b[0m\u001b[1;33m.\u001b[0m\u001b[0mto_csv\u001b[0m\u001b[1;33m(\u001b[0m\u001b[0mfname\u001b[0m\u001b[1;33m,\u001b[0m \u001b[0mindex\u001b[0m\u001b[1;33m=\u001b[0m\u001b[1;32mFalse\u001b[0m\u001b[1;33m,\u001b[0m \u001b[0mheader\u001b[0m\u001b[1;33m=\u001b[0m\u001b[1;32mTrue\u001b[0m\u001b[1;33m)\u001b[0m\u001b[1;33m\u001b[0m\u001b[0m\n\u001b[0m\u001b[0;32m      7\u001b[0m \u001b[1;33m\u001b[0m\u001b[0m\n\u001b[0;32m      8\u001b[0m \u001b[0mwrite_preds\u001b[0m\u001b[1;33m(\u001b[0m\u001b[0mpreds\u001b[0m\u001b[1;33m,\u001b[0m \u001b[1;34m\"keras-mlp.csv\"\u001b[0m\u001b[1;33m)\u001b[0m\u001b[1;33m\u001b[0m\u001b[0m\n",
      "\u001b[1;32m~\\Anaconda3\\envs\\SignModel\\lib\\site-packages\\pandas\\core\\frame.py\u001b[0m in \u001b[0;36mto_csv\u001b[1;34m(self, path_or_buf, sep, na_rep, float_format, columns, header, index, index_label, mode, encoding, compression, quoting, quotechar, line_terminator, chunksize, tupleize_cols, date_format, doublequote, escapechar, decimal)\u001b[0m\n\u001b[0;32m   1401\u001b[0m                                      \u001b[0mdoublequote\u001b[0m\u001b[1;33m=\u001b[0m\u001b[0mdoublequote\u001b[0m\u001b[1;33m,\u001b[0m\u001b[1;33m\u001b[0m\u001b[0m\n\u001b[0;32m   1402\u001b[0m                                      escapechar=escapechar, decimal=decimal)\n\u001b[1;32m-> 1403\u001b[1;33m         \u001b[0mformatter\u001b[0m\u001b[1;33m.\u001b[0m\u001b[0msave\u001b[0m\u001b[1;33m(\u001b[0m\u001b[1;33m)\u001b[0m\u001b[1;33m\u001b[0m\u001b[0m\n\u001b[0m\u001b[0;32m   1404\u001b[0m \u001b[1;33m\u001b[0m\u001b[0m\n\u001b[0;32m   1405\u001b[0m         \u001b[1;32mif\u001b[0m \u001b[0mpath_or_buf\u001b[0m \u001b[1;32mis\u001b[0m \u001b[1;32mNone\u001b[0m\u001b[1;33m:\u001b[0m\u001b[1;33m\u001b[0m\u001b[0m\n",
      "\u001b[1;32m~\\Anaconda3\\envs\\SignModel\\lib\\site-packages\\pandas\\io\\formats\\format.py\u001b[0m in \u001b[0;36msave\u001b[1;34m(self)\u001b[0m\n\u001b[0;32m   1575\u001b[0m             f, handles = _get_handle(self.path_or_buf, self.mode,\n\u001b[0;32m   1576\u001b[0m                                      \u001b[0mencoding\u001b[0m\u001b[1;33m=\u001b[0m\u001b[0mself\u001b[0m\u001b[1;33m.\u001b[0m\u001b[0mencoding\u001b[0m\u001b[1;33m,\u001b[0m\u001b[1;33m\u001b[0m\u001b[0m\n\u001b[1;32m-> 1577\u001b[1;33m                                      compression=self.compression)\n\u001b[0m\u001b[0;32m   1578\u001b[0m             \u001b[0mclose\u001b[0m \u001b[1;33m=\u001b[0m \u001b[1;32mTrue\u001b[0m\u001b[1;33m\u001b[0m\u001b[0m\n\u001b[0;32m   1579\u001b[0m \u001b[1;33m\u001b[0m\u001b[0m\n",
      "\u001b[1;32m~\\Anaconda3\\envs\\SignModel\\lib\\site-packages\\pandas\\io\\common.py\u001b[0m in \u001b[0;36m_get_handle\u001b[1;34m(path_or_buf, mode, encoding, compression, memory_map, is_text)\u001b[0m\n\u001b[0;32m    383\u001b[0m         \u001b[1;32melif\u001b[0m \u001b[0mis_text\u001b[0m\u001b[1;33m:\u001b[0m\u001b[1;33m\u001b[0m\u001b[0m\n\u001b[0;32m    384\u001b[0m             \u001b[1;31m# Python 3 and no explicit encoding\u001b[0m\u001b[1;33m\u001b[0m\u001b[1;33m\u001b[0m\u001b[0m\n\u001b[1;32m--> 385\u001b[1;33m             \u001b[0mf\u001b[0m \u001b[1;33m=\u001b[0m \u001b[0mopen\u001b[0m\u001b[1;33m(\u001b[0m\u001b[0mpath_or_buf\u001b[0m\u001b[1;33m,\u001b[0m \u001b[0mmode\u001b[0m\u001b[1;33m,\u001b[0m \u001b[0merrors\u001b[0m\u001b[1;33m=\u001b[0m\u001b[1;34m'replace'\u001b[0m\u001b[1;33m)\u001b[0m\u001b[1;33m\u001b[0m\u001b[0m\n\u001b[0m\u001b[0;32m    386\u001b[0m         \u001b[1;32melse\u001b[0m\u001b[1;33m:\u001b[0m\u001b[1;33m\u001b[0m\u001b[0m\n\u001b[0;32m    387\u001b[0m             \u001b[1;31m# Python 3 and binary mode\u001b[0m\u001b[1;33m\u001b[0m\u001b[1;33m\u001b[0m\u001b[0m\n",
      "\u001b[1;31mPermissionError\u001b[0m: [Errno 13] Permission denied: 'keras-mlp.csv'"
     ]
    }
   ],
   "source": [
    "print(\"Generating test predictions...\")\n",
    "print(X_test.shape)\n",
    "preds = np.argmax(signsModel.predict(X_test,batch_size=16, verbose=0),axis=1)\n",
    "print(preds)\n",
    "def write_preds(preds, fname):\n",
    "    pd.DataFrame({\"ImageId\": list(range(1,len(preds)+1)), \"Label\": preds}).to_csv(fname, index=False, header=True)\n",
    "\n",
    "write_preds(preds, \"keras-mlp.csv\")"
   ]
  },
  {
   "cell_type": "code",
   "execution_count": null,
   "metadata": {
    "collapsed": true
   },
   "outputs": [],
   "source": [
    "sess = tf.Session(config=tf.ConfigProto(log_device_placement=True))"
   ]
  },
  {
   "cell_type": "code",
   "execution_count": 10,
   "metadata": {},
   "outputs": [],
   "source": [
    "signsModel.save('signModel.h5')"
   ]
  },
  {
   "cell_type": "code",
   "execution_count": null,
   "metadata": {
    "collapsed": true
   },
   "outputs": [],
   "source": []
  },
  {
   "cell_type": "code",
   "execution_count": null,
   "metadata": {
    "collapsed": true
   },
   "outputs": [],
   "source": []
  },
  {
   "cell_type": "code",
   "execution_count": null,
   "metadata": {
    "collapsed": true
   },
   "outputs": [],
   "source": []
  }
 ],
 "metadata": {
  "kernelspec": {
   "display_name": "Python 3",
   "language": "python",
   "name": "python3"
  },
  "language_info": {
   "codemirror_mode": {
    "name": "ipython",
    "version": 3
   },
   "file_extension": ".py",
   "mimetype": "text/x-python",
   "name": "python",
   "nbconvert_exporter": "python",
   "pygments_lexer": "ipython3",
   "version": "3.6.2"
  }
 },
 "nbformat": 4,
 "nbformat_minor": 2
}
